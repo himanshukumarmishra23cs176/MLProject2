{
  "nbformat": 4,
  "nbformat_minor": 0,
  "metadata": {
    "colab": {
      "provenance": [],
      "authorship_tag": "ABX9TyOWLZZT4ujA67KrYIDcNbMm",
      "include_colab_link": true
    },
    "kernelspec": {
      "name": "python3",
      "display_name": "Python 3"
    },
    "language_info": {
      "name": "python"
    }
  },
  "cells": [
    {
      "cell_type": "markdown",
      "metadata": {
        "id": "view-in-github",
        "colab_type": "text"
      },
      "source": [
        "<a href=\"https://colab.research.google.com/github/himanshukumarmishra23cs176/MLProject2/blob/main/mlproject2.ipynb\" target=\"_parent\"><img src=\"https://colab.research.google.com/assets/colab-badge.svg\" alt=\"Open In Colab\"/></a>"
      ]
    },
    {
      "cell_type": "code",
      "execution_count": 1,
      "metadata": {
        "id": "icpEqzELYR24"
      },
      "outputs": [],
      "source": [
        "import pandas as pd\n",
        "import numpy as np\n",
        "import matplotlib.pyplot as plt\n",
        "import seaborn as sns\n",
        "from scipy import stats\n",
        "from sklearn.preprocessing import StandardScaler, MinMaxScaler, LabelEncoder\n",
        "from sklearn.feature_selection import SelectKBest, chi2, f_classif\n",
        "from sklearn.ensemble import RandomForestClassifier"
      ]
    },
    {
      "cell_type": "code",
      "source": [
        "sns.set_style('whitegrid')\n",
        "plt.rcParams['figure.figsize'] = (10, 6)"
      ],
      "metadata": {
        "id": "bBh6Z8hxbBFF"
      },
      "execution_count": 2,
      "outputs": []
    },
    {
      "cell_type": "code",
      "source": [
        "train_df = pd.read_csv('train.csv')\n",
        "test_df = pd.read_csv('test.csv')\n",
        "gender_submission = pd.read_csv('gender_submission.csv')"
      ],
      "metadata": {
        "id": "jDhqjXNObIUh"
      },
      "execution_count": 4,
      "outputs": []
    },
    {
      "cell_type": "code",
      "source": [
        "print(\"Training Data Info:\")\n",
        "print(train_df.info())\n",
        "print(\"\\nTest Data Info:\")\n",
        "print(test_df.info())"
      ],
      "metadata": {
        "colab": {
          "base_uri": "https://localhost:8080/"
        },
        "id": "1aSySiimbTay",
        "outputId": "f874b5ee-9d07-4224-9305-c591ef8a3ae8"
      },
      "execution_count": 5,
      "outputs": [
        {
          "output_type": "stream",
          "name": "stdout",
          "text": [
            "Training Data Info:\n",
            "<class 'pandas.core.frame.DataFrame'>\n",
            "RangeIndex: 891 entries, 0 to 890\n",
            "Data columns (total 12 columns):\n",
            " #   Column       Non-Null Count  Dtype  \n",
            "---  ------       --------------  -----  \n",
            " 0   PassengerId  891 non-null    int64  \n",
            " 1   Survived     891 non-null    int64  \n",
            " 2   Pclass       891 non-null    int64  \n",
            " 3   Name         891 non-null    object \n",
            " 4   Sex          891 non-null    object \n",
            " 5   Age          714 non-null    float64\n",
            " 6   SibSp        891 non-null    int64  \n",
            " 7   Parch        891 non-null    int64  \n",
            " 8   Ticket       891 non-null    object \n",
            " 9   Fare         891 non-null    float64\n",
            " 10  Cabin        204 non-null    object \n",
            " 11  Embarked     889 non-null    object \n",
            "dtypes: float64(2), int64(5), object(5)\n",
            "memory usage: 83.7+ KB\n",
            "None\n",
            "\n",
            "Test Data Info:\n",
            "<class 'pandas.core.frame.DataFrame'>\n",
            "RangeIndex: 418 entries, 0 to 417\n",
            "Data columns (total 11 columns):\n",
            " #   Column       Non-Null Count  Dtype  \n",
            "---  ------       --------------  -----  \n",
            " 0   PassengerId  418 non-null    int64  \n",
            " 1   Pclass       418 non-null    int64  \n",
            " 2   Name         418 non-null    object \n",
            " 3   Sex          418 non-null    object \n",
            " 4   Age          332 non-null    float64\n",
            " 5   SibSp        418 non-null    int64  \n",
            " 6   Parch        418 non-null    int64  \n",
            " 7   Ticket       418 non-null    object \n",
            " 8   Fare         417 non-null    float64\n",
            " 9   Cabin        91 non-null     object \n",
            " 10  Embarked     418 non-null    object \n",
            "dtypes: float64(2), int64(4), object(5)\n",
            "memory usage: 36.1+ KB\n",
            "None\n"
          ]
        }
      ]
    },
    {
      "cell_type": "code",
      "source": [
        "print(\"\\nTraining Data Head:\")\n",
        "train_df.head()"
      ],
      "metadata": {
        "colab": {
          "base_uri": "https://localhost:8080/",
          "height": 295
        },
        "id": "EJ16sD_ObgSZ",
        "outputId": "3c47b466-4526-409a-c5ed-a12b4aa7885c"
      },
      "execution_count": 6,
      "outputs": [
        {
          "output_type": "stream",
          "name": "stdout",
          "text": [
            "\n",
            "Training Data Head:\n"
          ]
        },
        {
          "output_type": "execute_result",
          "data": {
            "text/plain": [
              "   PassengerId  Survived  Pclass  \\\n",
              "0            1         0       3   \n",
              "1            2         1       1   \n",
              "2            3         1       3   \n",
              "3            4         1       1   \n",
              "4            5         0       3   \n",
              "\n",
              "                                                Name     Sex   Age  SibSp  \\\n",
              "0                            Braund, Mr. Owen Harris    male  22.0      1   \n",
              "1  Cumings, Mrs. John Bradley (Florence Briggs Th...  female  38.0      1   \n",
              "2                             Heikkinen, Miss. Laina  female  26.0      0   \n",
              "3       Futrelle, Mrs. Jacques Heath (Lily May Peel)  female  35.0      1   \n",
              "4                           Allen, Mr. William Henry    male  35.0      0   \n",
              "\n",
              "   Parch            Ticket     Fare Cabin Embarked  \n",
              "0      0         A/5 21171   7.2500   NaN        S  \n",
              "1      0          PC 17599  71.2833   C85        C  \n",
              "2      0  STON/O2. 3101282   7.9250   NaN        S  \n",
              "3      0            113803  53.1000  C123        S  \n",
              "4      0            373450   8.0500   NaN        S  "
            ],
            "text/html": [
              "\n",
              "  <div id=\"df-846762a1-b477-4673-95e0-803a5d9bcd41\" class=\"colab-df-container\">\n",
              "    <div>\n",
              "<style scoped>\n",
              "    .dataframe tbody tr th:only-of-type {\n",
              "        vertical-align: middle;\n",
              "    }\n",
              "\n",
              "    .dataframe tbody tr th {\n",
              "        vertical-align: top;\n",
              "    }\n",
              "\n",
              "    .dataframe thead th {\n",
              "        text-align: right;\n",
              "    }\n",
              "</style>\n",
              "<table border=\"1\" class=\"dataframe\">\n",
              "  <thead>\n",
              "    <tr style=\"text-align: right;\">\n",
              "      <th></th>\n",
              "      <th>PassengerId</th>\n",
              "      <th>Survived</th>\n",
              "      <th>Pclass</th>\n",
              "      <th>Name</th>\n",
              "      <th>Sex</th>\n",
              "      <th>Age</th>\n",
              "      <th>SibSp</th>\n",
              "      <th>Parch</th>\n",
              "      <th>Ticket</th>\n",
              "      <th>Fare</th>\n",
              "      <th>Cabin</th>\n",
              "      <th>Embarked</th>\n",
              "    </tr>\n",
              "  </thead>\n",
              "  <tbody>\n",
              "    <tr>\n",
              "      <th>0</th>\n",
              "      <td>1</td>\n",
              "      <td>0</td>\n",
              "      <td>3</td>\n",
              "      <td>Braund, Mr. Owen Harris</td>\n",
              "      <td>male</td>\n",
              "      <td>22.0</td>\n",
              "      <td>1</td>\n",
              "      <td>0</td>\n",
              "      <td>A/5 21171</td>\n",
              "      <td>7.2500</td>\n",
              "      <td>NaN</td>\n",
              "      <td>S</td>\n",
              "    </tr>\n",
              "    <tr>\n",
              "      <th>1</th>\n",
              "      <td>2</td>\n",
              "      <td>1</td>\n",
              "      <td>1</td>\n",
              "      <td>Cumings, Mrs. John Bradley (Florence Briggs Th...</td>\n",
              "      <td>female</td>\n",
              "      <td>38.0</td>\n",
              "      <td>1</td>\n",
              "      <td>0</td>\n",
              "      <td>PC 17599</td>\n",
              "      <td>71.2833</td>\n",
              "      <td>C85</td>\n",
              "      <td>C</td>\n",
              "    </tr>\n",
              "    <tr>\n",
              "      <th>2</th>\n",
              "      <td>3</td>\n",
              "      <td>1</td>\n",
              "      <td>3</td>\n",
              "      <td>Heikkinen, Miss. Laina</td>\n",
              "      <td>female</td>\n",
              "      <td>26.0</td>\n",
              "      <td>0</td>\n",
              "      <td>0</td>\n",
              "      <td>STON/O2. 3101282</td>\n",
              "      <td>7.9250</td>\n",
              "      <td>NaN</td>\n",
              "      <td>S</td>\n",
              "    </tr>\n",
              "    <tr>\n",
              "      <th>3</th>\n",
              "      <td>4</td>\n",
              "      <td>1</td>\n",
              "      <td>1</td>\n",
              "      <td>Futrelle, Mrs. Jacques Heath (Lily May Peel)</td>\n",
              "      <td>female</td>\n",
              "      <td>35.0</td>\n",
              "      <td>1</td>\n",
              "      <td>0</td>\n",
              "      <td>113803</td>\n",
              "      <td>53.1000</td>\n",
              "      <td>C123</td>\n",
              "      <td>S</td>\n",
              "    </tr>\n",
              "    <tr>\n",
              "      <th>4</th>\n",
              "      <td>5</td>\n",
              "      <td>0</td>\n",
              "      <td>3</td>\n",
              "      <td>Allen, Mr. William Henry</td>\n",
              "      <td>male</td>\n",
              "      <td>35.0</td>\n",
              "      <td>0</td>\n",
              "      <td>0</td>\n",
              "      <td>373450</td>\n",
              "      <td>8.0500</td>\n",
              "      <td>NaN</td>\n",
              "      <td>S</td>\n",
              "    </tr>\n",
              "  </tbody>\n",
              "</table>\n",
              "</div>\n",
              "    <div class=\"colab-df-buttons\">\n",
              "\n",
              "  <div class=\"colab-df-container\">\n",
              "    <button class=\"colab-df-convert\" onclick=\"convertToInteractive('df-846762a1-b477-4673-95e0-803a5d9bcd41')\"\n",
              "            title=\"Convert this dataframe to an interactive table.\"\n",
              "            style=\"display:none;\">\n",
              "\n",
              "  <svg xmlns=\"http://www.w3.org/2000/svg\" height=\"24px\" viewBox=\"0 -960 960 960\">\n",
              "    <path d=\"M120-120v-720h720v720H120Zm60-500h600v-160H180v160Zm220 220h160v-160H400v160Zm0 220h160v-160H400v160ZM180-400h160v-160H180v160Zm440 0h160v-160H620v160ZM180-180h160v-160H180v160Zm440 0h160v-160H620v160Z\"/>\n",
              "  </svg>\n",
              "    </button>\n",
              "\n",
              "  <style>\n",
              "    .colab-df-container {\n",
              "      display:flex;\n",
              "      gap: 12px;\n",
              "    }\n",
              "\n",
              "    .colab-df-convert {\n",
              "      background-color: #E8F0FE;\n",
              "      border: none;\n",
              "      border-radius: 50%;\n",
              "      cursor: pointer;\n",
              "      display: none;\n",
              "      fill: #1967D2;\n",
              "      height: 32px;\n",
              "      padding: 0 0 0 0;\n",
              "      width: 32px;\n",
              "    }\n",
              "\n",
              "    .colab-df-convert:hover {\n",
              "      background-color: #E2EBFA;\n",
              "      box-shadow: 0px 1px 2px rgba(60, 64, 67, 0.3), 0px 1px 3px 1px rgba(60, 64, 67, 0.15);\n",
              "      fill: #174EA6;\n",
              "    }\n",
              "\n",
              "    .colab-df-buttons div {\n",
              "      margin-bottom: 4px;\n",
              "    }\n",
              "\n",
              "    [theme=dark] .colab-df-convert {\n",
              "      background-color: #3B4455;\n",
              "      fill: #D2E3FC;\n",
              "    }\n",
              "\n",
              "    [theme=dark] .colab-df-convert:hover {\n",
              "      background-color: #434B5C;\n",
              "      box-shadow: 0px 1px 3px 1px rgba(0, 0, 0, 0.15);\n",
              "      filter: drop-shadow(0px 1px 2px rgba(0, 0, 0, 0.3));\n",
              "      fill: #FFFFFF;\n",
              "    }\n",
              "  </style>\n",
              "\n",
              "    <script>\n",
              "      const buttonEl =\n",
              "        document.querySelector('#df-846762a1-b477-4673-95e0-803a5d9bcd41 button.colab-df-convert');\n",
              "      buttonEl.style.display =\n",
              "        google.colab.kernel.accessAllowed ? 'block' : 'none';\n",
              "\n",
              "      async function convertToInteractive(key) {\n",
              "        const element = document.querySelector('#df-846762a1-b477-4673-95e0-803a5d9bcd41');\n",
              "        const dataTable =\n",
              "          await google.colab.kernel.invokeFunction('convertToInteractive',\n",
              "                                                    [key], {});\n",
              "        if (!dataTable) return;\n",
              "\n",
              "        const docLinkHtml = 'Like what you see? Visit the ' +\n",
              "          '<a target=\"_blank\" href=https://colab.research.google.com/notebooks/data_table.ipynb>data table notebook</a>'\n",
              "          + ' to learn more about interactive tables.';\n",
              "        element.innerHTML = '';\n",
              "        dataTable['output_type'] = 'display_data';\n",
              "        await google.colab.output.renderOutput(dataTable, element);\n",
              "        const docLink = document.createElement('div');\n",
              "        docLink.innerHTML = docLinkHtml;\n",
              "        element.appendChild(docLink);\n",
              "      }\n",
              "    </script>\n",
              "  </div>\n",
              "\n",
              "\n",
              "    <div id=\"df-d12bcfc7-7007-4efe-ad05-ecf2ec3b4411\">\n",
              "      <button class=\"colab-df-quickchart\" onclick=\"quickchart('df-d12bcfc7-7007-4efe-ad05-ecf2ec3b4411')\"\n",
              "                title=\"Suggest charts\"\n",
              "                style=\"display:none;\">\n",
              "\n",
              "<svg xmlns=\"http://www.w3.org/2000/svg\" height=\"24px\"viewBox=\"0 0 24 24\"\n",
              "     width=\"24px\">\n",
              "    <g>\n",
              "        <path d=\"M19 3H5c-1.1 0-2 .9-2 2v14c0 1.1.9 2 2 2h14c1.1 0 2-.9 2-2V5c0-1.1-.9-2-2-2zM9 17H7v-7h2v7zm4 0h-2V7h2v10zm4 0h-2v-4h2v4z\"/>\n",
              "    </g>\n",
              "</svg>\n",
              "      </button>\n",
              "\n",
              "<style>\n",
              "  .colab-df-quickchart {\n",
              "      --bg-color: #E8F0FE;\n",
              "      --fill-color: #1967D2;\n",
              "      --hover-bg-color: #E2EBFA;\n",
              "      --hover-fill-color: #174EA6;\n",
              "      --disabled-fill-color: #AAA;\n",
              "      --disabled-bg-color: #DDD;\n",
              "  }\n",
              "\n",
              "  [theme=dark] .colab-df-quickchart {\n",
              "      --bg-color: #3B4455;\n",
              "      --fill-color: #D2E3FC;\n",
              "      --hover-bg-color: #434B5C;\n",
              "      --hover-fill-color: #FFFFFF;\n",
              "      --disabled-bg-color: #3B4455;\n",
              "      --disabled-fill-color: #666;\n",
              "  }\n",
              "\n",
              "  .colab-df-quickchart {\n",
              "    background-color: var(--bg-color);\n",
              "    border: none;\n",
              "    border-radius: 50%;\n",
              "    cursor: pointer;\n",
              "    display: none;\n",
              "    fill: var(--fill-color);\n",
              "    height: 32px;\n",
              "    padding: 0;\n",
              "    width: 32px;\n",
              "  }\n",
              "\n",
              "  .colab-df-quickchart:hover {\n",
              "    background-color: var(--hover-bg-color);\n",
              "    box-shadow: 0 1px 2px rgba(60, 64, 67, 0.3), 0 1px 3px 1px rgba(60, 64, 67, 0.15);\n",
              "    fill: var(--button-hover-fill-color);\n",
              "  }\n",
              "\n",
              "  .colab-df-quickchart-complete:disabled,\n",
              "  .colab-df-quickchart-complete:disabled:hover {\n",
              "    background-color: var(--disabled-bg-color);\n",
              "    fill: var(--disabled-fill-color);\n",
              "    box-shadow: none;\n",
              "  }\n",
              "\n",
              "  .colab-df-spinner {\n",
              "    border: 2px solid var(--fill-color);\n",
              "    border-color: transparent;\n",
              "    border-bottom-color: var(--fill-color);\n",
              "    animation:\n",
              "      spin 1s steps(1) infinite;\n",
              "  }\n",
              "\n",
              "  @keyframes spin {\n",
              "    0% {\n",
              "      border-color: transparent;\n",
              "      border-bottom-color: var(--fill-color);\n",
              "      border-left-color: var(--fill-color);\n",
              "    }\n",
              "    20% {\n",
              "      border-color: transparent;\n",
              "      border-left-color: var(--fill-color);\n",
              "      border-top-color: var(--fill-color);\n",
              "    }\n",
              "    30% {\n",
              "      border-color: transparent;\n",
              "      border-left-color: var(--fill-color);\n",
              "      border-top-color: var(--fill-color);\n",
              "      border-right-color: var(--fill-color);\n",
              "    }\n",
              "    40% {\n",
              "      border-color: transparent;\n",
              "      border-right-color: var(--fill-color);\n",
              "      border-top-color: var(--fill-color);\n",
              "    }\n",
              "    60% {\n",
              "      border-color: transparent;\n",
              "      border-right-color: var(--fill-color);\n",
              "    }\n",
              "    80% {\n",
              "      border-color: transparent;\n",
              "      border-right-color: var(--fill-color);\n",
              "      border-bottom-color: var(--fill-color);\n",
              "    }\n",
              "    90% {\n",
              "      border-color: transparent;\n",
              "      border-bottom-color: var(--fill-color);\n",
              "    }\n",
              "  }\n",
              "</style>\n",
              "\n",
              "      <script>\n",
              "        async function quickchart(key) {\n",
              "          const quickchartButtonEl =\n",
              "            document.querySelector('#' + key + ' button');\n",
              "          quickchartButtonEl.disabled = true;  // To prevent multiple clicks.\n",
              "          quickchartButtonEl.classList.add('colab-df-spinner');\n",
              "          try {\n",
              "            const charts = await google.colab.kernel.invokeFunction(\n",
              "                'suggestCharts', [key], {});\n",
              "          } catch (error) {\n",
              "            console.error('Error during call to suggestCharts:', error);\n",
              "          }\n",
              "          quickchartButtonEl.classList.remove('colab-df-spinner');\n",
              "          quickchartButtonEl.classList.add('colab-df-quickchart-complete');\n",
              "        }\n",
              "        (() => {\n",
              "          let quickchartButtonEl =\n",
              "            document.querySelector('#df-d12bcfc7-7007-4efe-ad05-ecf2ec3b4411 button');\n",
              "          quickchartButtonEl.style.display =\n",
              "            google.colab.kernel.accessAllowed ? 'block' : 'none';\n",
              "        })();\n",
              "      </script>\n",
              "    </div>\n",
              "\n",
              "    </div>\n",
              "  </div>\n"
            ],
            "application/vnd.google.colaboratory.intrinsic+json": {
              "type": "dataframe",
              "variable_name": "train_df",
              "summary": "{\n  \"name\": \"train_df\",\n  \"rows\": 891,\n  \"fields\": [\n    {\n      \"column\": \"PassengerId\",\n      \"properties\": {\n        \"dtype\": \"number\",\n        \"std\": 257,\n        \"min\": 1,\n        \"max\": 891,\n        \"num_unique_values\": 891,\n        \"samples\": [\n          710,\n          440,\n          841\n        ],\n        \"semantic_type\": \"\",\n        \"description\": \"\"\n      }\n    },\n    {\n      \"column\": \"Survived\",\n      \"properties\": {\n        \"dtype\": \"number\",\n        \"std\": 0,\n        \"min\": 0,\n        \"max\": 1,\n        \"num_unique_values\": 2,\n        \"samples\": [\n          1,\n          0\n        ],\n        \"semantic_type\": \"\",\n        \"description\": \"\"\n      }\n    },\n    {\n      \"column\": \"Pclass\",\n      \"properties\": {\n        \"dtype\": \"number\",\n        \"std\": 0,\n        \"min\": 1,\n        \"max\": 3,\n        \"num_unique_values\": 3,\n        \"samples\": [\n          3,\n          1\n        ],\n        \"semantic_type\": \"\",\n        \"description\": \"\"\n      }\n    },\n    {\n      \"column\": \"Name\",\n      \"properties\": {\n        \"dtype\": \"string\",\n        \"num_unique_values\": 891,\n        \"samples\": [\n          \"Moubarek, Master. Halim Gonios (\\\"William George\\\")\",\n          \"Kvillner, Mr. Johan Henrik Johannesson\"\n        ],\n        \"semantic_type\": \"\",\n        \"description\": \"\"\n      }\n    },\n    {\n      \"column\": \"Sex\",\n      \"properties\": {\n        \"dtype\": \"category\",\n        \"num_unique_values\": 2,\n        \"samples\": [\n          \"female\",\n          \"male\"\n        ],\n        \"semantic_type\": \"\",\n        \"description\": \"\"\n      }\n    },\n    {\n      \"column\": \"Age\",\n      \"properties\": {\n        \"dtype\": \"number\",\n        \"std\": 14.526497332334044,\n        \"min\": 0.42,\n        \"max\": 80.0,\n        \"num_unique_values\": 88,\n        \"samples\": [\n          0.75,\n          22.0\n        ],\n        \"semantic_type\": \"\",\n        \"description\": \"\"\n      }\n    },\n    {\n      \"column\": \"SibSp\",\n      \"properties\": {\n        \"dtype\": \"number\",\n        \"std\": 1,\n        \"min\": 0,\n        \"max\": 8,\n        \"num_unique_values\": 7,\n        \"samples\": [\n          1,\n          0\n        ],\n        \"semantic_type\": \"\",\n        \"description\": \"\"\n      }\n    },\n    {\n      \"column\": \"Parch\",\n      \"properties\": {\n        \"dtype\": \"number\",\n        \"std\": 0,\n        \"min\": 0,\n        \"max\": 6,\n        \"num_unique_values\": 7,\n        \"samples\": [\n          0,\n          1\n        ],\n        \"semantic_type\": \"\",\n        \"description\": \"\"\n      }\n    },\n    {\n      \"column\": \"Ticket\",\n      \"properties\": {\n        \"dtype\": \"string\",\n        \"num_unique_values\": 681,\n        \"samples\": [\n          \"11774\",\n          \"248740\"\n        ],\n        \"semantic_type\": \"\",\n        \"description\": \"\"\n      }\n    },\n    {\n      \"column\": \"Fare\",\n      \"properties\": {\n        \"dtype\": \"number\",\n        \"std\": 49.693428597180905,\n        \"min\": 0.0,\n        \"max\": 512.3292,\n        \"num_unique_values\": 248,\n        \"samples\": [\n          11.2417,\n          51.8625\n        ],\n        \"semantic_type\": \"\",\n        \"description\": \"\"\n      }\n    },\n    {\n      \"column\": \"Cabin\",\n      \"properties\": {\n        \"dtype\": \"category\",\n        \"num_unique_values\": 147,\n        \"samples\": [\n          \"D45\",\n          \"B49\"\n        ],\n        \"semantic_type\": \"\",\n        \"description\": \"\"\n      }\n    },\n    {\n      \"column\": \"Embarked\",\n      \"properties\": {\n        \"dtype\": \"category\",\n        \"num_unique_values\": 3,\n        \"samples\": [\n          \"S\",\n          \"C\"\n        ],\n        \"semantic_type\": \"\",\n        \"description\": \"\"\n      }\n    }\n  ]\n}"
            }
          },
          "metadata": {},
          "execution_count": 6
        }
      ]
    },
    {
      "cell_type": "code",
      "source": [
        "print(\"Training Data Description:\")\n",
        "train_df.describe()"
      ],
      "metadata": {
        "colab": {
          "base_uri": "https://localhost:8080/",
          "height": 318
        },
        "id": "Cs3bFNuKblL5",
        "outputId": "66c8779f-7951-4d72-f8fc-fe8a4b1693ca"
      },
      "execution_count": 7,
      "outputs": [
        {
          "output_type": "stream",
          "name": "stdout",
          "text": [
            "Training Data Description:\n"
          ]
        },
        {
          "output_type": "execute_result",
          "data": {
            "text/plain": [
              "       PassengerId    Survived      Pclass         Age       SibSp  \\\n",
              "count   891.000000  891.000000  891.000000  714.000000  891.000000   \n",
              "mean    446.000000    0.383838    2.308642   29.699118    0.523008   \n",
              "std     257.353842    0.486592    0.836071   14.526497    1.102743   \n",
              "min       1.000000    0.000000    1.000000    0.420000    0.000000   \n",
              "25%     223.500000    0.000000    2.000000   20.125000    0.000000   \n",
              "50%     446.000000    0.000000    3.000000   28.000000    0.000000   \n",
              "75%     668.500000    1.000000    3.000000   38.000000    1.000000   \n",
              "max     891.000000    1.000000    3.000000   80.000000    8.000000   \n",
              "\n",
              "            Parch        Fare  \n",
              "count  891.000000  891.000000  \n",
              "mean     0.381594   32.204208  \n",
              "std      0.806057   49.693429  \n",
              "min      0.000000    0.000000  \n",
              "25%      0.000000    7.910400  \n",
              "50%      0.000000   14.454200  \n",
              "75%      0.000000   31.000000  \n",
              "max      6.000000  512.329200  "
            ],
            "text/html": [
              "\n",
              "  <div id=\"df-a2718430-9119-47e9-8646-faaf34c7b593\" class=\"colab-df-container\">\n",
              "    <div>\n",
              "<style scoped>\n",
              "    .dataframe tbody tr th:only-of-type {\n",
              "        vertical-align: middle;\n",
              "    }\n",
              "\n",
              "    .dataframe tbody tr th {\n",
              "        vertical-align: top;\n",
              "    }\n",
              "\n",
              "    .dataframe thead th {\n",
              "        text-align: right;\n",
              "    }\n",
              "</style>\n",
              "<table border=\"1\" class=\"dataframe\">\n",
              "  <thead>\n",
              "    <tr style=\"text-align: right;\">\n",
              "      <th></th>\n",
              "      <th>PassengerId</th>\n",
              "      <th>Survived</th>\n",
              "      <th>Pclass</th>\n",
              "      <th>Age</th>\n",
              "      <th>SibSp</th>\n",
              "      <th>Parch</th>\n",
              "      <th>Fare</th>\n",
              "    </tr>\n",
              "  </thead>\n",
              "  <tbody>\n",
              "    <tr>\n",
              "      <th>count</th>\n",
              "      <td>891.000000</td>\n",
              "      <td>891.000000</td>\n",
              "      <td>891.000000</td>\n",
              "      <td>714.000000</td>\n",
              "      <td>891.000000</td>\n",
              "      <td>891.000000</td>\n",
              "      <td>891.000000</td>\n",
              "    </tr>\n",
              "    <tr>\n",
              "      <th>mean</th>\n",
              "      <td>446.000000</td>\n",
              "      <td>0.383838</td>\n",
              "      <td>2.308642</td>\n",
              "      <td>29.699118</td>\n",
              "      <td>0.523008</td>\n",
              "      <td>0.381594</td>\n",
              "      <td>32.204208</td>\n",
              "    </tr>\n",
              "    <tr>\n",
              "      <th>std</th>\n",
              "      <td>257.353842</td>\n",
              "      <td>0.486592</td>\n",
              "      <td>0.836071</td>\n",
              "      <td>14.526497</td>\n",
              "      <td>1.102743</td>\n",
              "      <td>0.806057</td>\n",
              "      <td>49.693429</td>\n",
              "    </tr>\n",
              "    <tr>\n",
              "      <th>min</th>\n",
              "      <td>1.000000</td>\n",
              "      <td>0.000000</td>\n",
              "      <td>1.000000</td>\n",
              "      <td>0.420000</td>\n",
              "      <td>0.000000</td>\n",
              "      <td>0.000000</td>\n",
              "      <td>0.000000</td>\n",
              "    </tr>\n",
              "    <tr>\n",
              "      <th>25%</th>\n",
              "      <td>223.500000</td>\n",
              "      <td>0.000000</td>\n",
              "      <td>2.000000</td>\n",
              "      <td>20.125000</td>\n",
              "      <td>0.000000</td>\n",
              "      <td>0.000000</td>\n",
              "      <td>7.910400</td>\n",
              "    </tr>\n",
              "    <tr>\n",
              "      <th>50%</th>\n",
              "      <td>446.000000</td>\n",
              "      <td>0.000000</td>\n",
              "      <td>3.000000</td>\n",
              "      <td>28.000000</td>\n",
              "      <td>0.000000</td>\n",
              "      <td>0.000000</td>\n",
              "      <td>14.454200</td>\n",
              "    </tr>\n",
              "    <tr>\n",
              "      <th>75%</th>\n",
              "      <td>668.500000</td>\n",
              "      <td>1.000000</td>\n",
              "      <td>3.000000</td>\n",
              "      <td>38.000000</td>\n",
              "      <td>1.000000</td>\n",
              "      <td>0.000000</td>\n",
              "      <td>31.000000</td>\n",
              "    </tr>\n",
              "    <tr>\n",
              "      <th>max</th>\n",
              "      <td>891.000000</td>\n",
              "      <td>1.000000</td>\n",
              "      <td>3.000000</td>\n",
              "      <td>80.000000</td>\n",
              "      <td>8.000000</td>\n",
              "      <td>6.000000</td>\n",
              "      <td>512.329200</td>\n",
              "    </tr>\n",
              "  </tbody>\n",
              "</table>\n",
              "</div>\n",
              "    <div class=\"colab-df-buttons\">\n",
              "\n",
              "  <div class=\"colab-df-container\">\n",
              "    <button class=\"colab-df-convert\" onclick=\"convertToInteractive('df-a2718430-9119-47e9-8646-faaf34c7b593')\"\n",
              "            title=\"Convert this dataframe to an interactive table.\"\n",
              "            style=\"display:none;\">\n",
              "\n",
              "  <svg xmlns=\"http://www.w3.org/2000/svg\" height=\"24px\" viewBox=\"0 -960 960 960\">\n",
              "    <path d=\"M120-120v-720h720v720H120Zm60-500h600v-160H180v160Zm220 220h160v-160H400v160Zm0 220h160v-160H400v160ZM180-400h160v-160H180v160Zm440 0h160v-160H620v160ZM180-180h160v-160H180v160Zm440 0h160v-160H620v160Z\"/>\n",
              "  </svg>\n",
              "    </button>\n",
              "\n",
              "  <style>\n",
              "    .colab-df-container {\n",
              "      display:flex;\n",
              "      gap: 12px;\n",
              "    }\n",
              "\n",
              "    .colab-df-convert {\n",
              "      background-color: #E8F0FE;\n",
              "      border: none;\n",
              "      border-radius: 50%;\n",
              "      cursor: pointer;\n",
              "      display: none;\n",
              "      fill: #1967D2;\n",
              "      height: 32px;\n",
              "      padding: 0 0 0 0;\n",
              "      width: 32px;\n",
              "    }\n",
              "\n",
              "    .colab-df-convert:hover {\n",
              "      background-color: #E2EBFA;\n",
              "      box-shadow: 0px 1px 2px rgba(60, 64, 67, 0.3), 0px 1px 3px 1px rgba(60, 64, 67, 0.15);\n",
              "      fill: #174EA6;\n",
              "    }\n",
              "\n",
              "    .colab-df-buttons div {\n",
              "      margin-bottom: 4px;\n",
              "    }\n",
              "\n",
              "    [theme=dark] .colab-df-convert {\n",
              "      background-color: #3B4455;\n",
              "      fill: #D2E3FC;\n",
              "    }\n",
              "\n",
              "    [theme=dark] .colab-df-convert:hover {\n",
              "      background-color: #434B5C;\n",
              "      box-shadow: 0px 1px 3px 1px rgba(0, 0, 0, 0.15);\n",
              "      filter: drop-shadow(0px 1px 2px rgba(0, 0, 0, 0.3));\n",
              "      fill: #FFFFFF;\n",
              "    }\n",
              "  </style>\n",
              "\n",
              "    <script>\n",
              "      const buttonEl =\n",
              "        document.querySelector('#df-a2718430-9119-47e9-8646-faaf34c7b593 button.colab-df-convert');\n",
              "      buttonEl.style.display =\n",
              "        google.colab.kernel.accessAllowed ? 'block' : 'none';\n",
              "\n",
              "      async function convertToInteractive(key) {\n",
              "        const element = document.querySelector('#df-a2718430-9119-47e9-8646-faaf34c7b593');\n",
              "        const dataTable =\n",
              "          await google.colab.kernel.invokeFunction('convertToInteractive',\n",
              "                                                    [key], {});\n",
              "        if (!dataTable) return;\n",
              "\n",
              "        const docLinkHtml = 'Like what you see? Visit the ' +\n",
              "          '<a target=\"_blank\" href=https://colab.research.google.com/notebooks/data_table.ipynb>data table notebook</a>'\n",
              "          + ' to learn more about interactive tables.';\n",
              "        element.innerHTML = '';\n",
              "        dataTable['output_type'] = 'display_data';\n",
              "        await google.colab.output.renderOutput(dataTable, element);\n",
              "        const docLink = document.createElement('div');\n",
              "        docLink.innerHTML = docLinkHtml;\n",
              "        element.appendChild(docLink);\n",
              "      }\n",
              "    </script>\n",
              "  </div>\n",
              "\n",
              "\n",
              "    <div id=\"df-95cb9d40-4692-47cb-a121-fb786918d0fa\">\n",
              "      <button class=\"colab-df-quickchart\" onclick=\"quickchart('df-95cb9d40-4692-47cb-a121-fb786918d0fa')\"\n",
              "                title=\"Suggest charts\"\n",
              "                style=\"display:none;\">\n",
              "\n",
              "<svg xmlns=\"http://www.w3.org/2000/svg\" height=\"24px\"viewBox=\"0 0 24 24\"\n",
              "     width=\"24px\">\n",
              "    <g>\n",
              "        <path d=\"M19 3H5c-1.1 0-2 .9-2 2v14c0 1.1.9 2 2 2h14c1.1 0 2-.9 2-2V5c0-1.1-.9-2-2-2zM9 17H7v-7h2v7zm4 0h-2V7h2v10zm4 0h-2v-4h2v4z\"/>\n",
              "    </g>\n",
              "</svg>\n",
              "      </button>\n",
              "\n",
              "<style>\n",
              "  .colab-df-quickchart {\n",
              "      --bg-color: #E8F0FE;\n",
              "      --fill-color: #1967D2;\n",
              "      --hover-bg-color: #E2EBFA;\n",
              "      --hover-fill-color: #174EA6;\n",
              "      --disabled-fill-color: #AAA;\n",
              "      --disabled-bg-color: #DDD;\n",
              "  }\n",
              "\n",
              "  [theme=dark] .colab-df-quickchart {\n",
              "      --bg-color: #3B4455;\n",
              "      --fill-color: #D2E3FC;\n",
              "      --hover-bg-color: #434B5C;\n",
              "      --hover-fill-color: #FFFFFF;\n",
              "      --disabled-bg-color: #3B4455;\n",
              "      --disabled-fill-color: #666;\n",
              "  }\n",
              "\n",
              "  .colab-df-quickchart {\n",
              "    background-color: var(--bg-color);\n",
              "    border: none;\n",
              "    border-radius: 50%;\n",
              "    cursor: pointer;\n",
              "    display: none;\n",
              "    fill: var(--fill-color);\n",
              "    height: 32px;\n",
              "    padding: 0;\n",
              "    width: 32px;\n",
              "  }\n",
              "\n",
              "  .colab-df-quickchart:hover {\n",
              "    background-color: var(--hover-bg-color);\n",
              "    box-shadow: 0 1px 2px rgba(60, 64, 67, 0.3), 0 1px 3px 1px rgba(60, 64, 67, 0.15);\n",
              "    fill: var(--button-hover-fill-color);\n",
              "  }\n",
              "\n",
              "  .colab-df-quickchart-complete:disabled,\n",
              "  .colab-df-quickchart-complete:disabled:hover {\n",
              "    background-color: var(--disabled-bg-color);\n",
              "    fill: var(--disabled-fill-color);\n",
              "    box-shadow: none;\n",
              "  }\n",
              "\n",
              "  .colab-df-spinner {\n",
              "    border: 2px solid var(--fill-color);\n",
              "    border-color: transparent;\n",
              "    border-bottom-color: var(--fill-color);\n",
              "    animation:\n",
              "      spin 1s steps(1) infinite;\n",
              "  }\n",
              "\n",
              "  @keyframes spin {\n",
              "    0% {\n",
              "      border-color: transparent;\n",
              "      border-bottom-color: var(--fill-color);\n",
              "      border-left-color: var(--fill-color);\n",
              "    }\n",
              "    20% {\n",
              "      border-color: transparent;\n",
              "      border-left-color: var(--fill-color);\n",
              "      border-top-color: var(--fill-color);\n",
              "    }\n",
              "    30% {\n",
              "      border-color: transparent;\n",
              "      border-left-color: var(--fill-color);\n",
              "      border-top-color: var(--fill-color);\n",
              "      border-right-color: var(--fill-color);\n",
              "    }\n",
              "    40% {\n",
              "      border-color: transparent;\n",
              "      border-right-color: var(--fill-color);\n",
              "      border-top-color: var(--fill-color);\n",
              "    }\n",
              "    60% {\n",
              "      border-color: transparent;\n",
              "      border-right-color: var(--fill-color);\n",
              "    }\n",
              "    80% {\n",
              "      border-color: transparent;\n",
              "      border-right-color: var(--fill-color);\n",
              "      border-bottom-color: var(--fill-color);\n",
              "    }\n",
              "    90% {\n",
              "      border-color: transparent;\n",
              "      border-bottom-color: var(--fill-color);\n",
              "    }\n",
              "  }\n",
              "</style>\n",
              "\n",
              "      <script>\n",
              "        async function quickchart(key) {\n",
              "          const quickchartButtonEl =\n",
              "            document.querySelector('#' + key + ' button');\n",
              "          quickchartButtonEl.disabled = true;  // To prevent multiple clicks.\n",
              "          quickchartButtonEl.classList.add('colab-df-spinner');\n",
              "          try {\n",
              "            const charts = await google.colab.kernel.invokeFunction(\n",
              "                'suggestCharts', [key], {});\n",
              "          } catch (error) {\n",
              "            console.error('Error during call to suggestCharts:', error);\n",
              "          }\n",
              "          quickchartButtonEl.classList.remove('colab-df-spinner');\n",
              "          quickchartButtonEl.classList.add('colab-df-quickchart-complete');\n",
              "        }\n",
              "        (() => {\n",
              "          let quickchartButtonEl =\n",
              "            document.querySelector('#df-95cb9d40-4692-47cb-a121-fb786918d0fa button');\n",
              "          quickchartButtonEl.style.display =\n",
              "            google.colab.kernel.accessAllowed ? 'block' : 'none';\n",
              "        })();\n",
              "      </script>\n",
              "    </div>\n",
              "\n",
              "    </div>\n",
              "  </div>\n"
            ],
            "application/vnd.google.colaboratory.intrinsic+json": {
              "type": "dataframe",
              "summary": "{\n  \"name\": \"train_df\",\n  \"rows\": 8,\n  \"fields\": [\n    {\n      \"column\": \"PassengerId\",\n      \"properties\": {\n        \"dtype\": \"number\",\n        \"std\": 320.8159711429856,\n        \"min\": 1.0,\n        \"max\": 891.0,\n        \"num_unique_values\": 6,\n        \"samples\": [\n          891.0,\n          446.0,\n          668.5\n        ],\n        \"semantic_type\": \"\",\n        \"description\": \"\"\n      }\n    },\n    {\n      \"column\": \"Survived\",\n      \"properties\": {\n        \"dtype\": \"number\",\n        \"std\": 314.8713661874558,\n        \"min\": 0.0,\n        \"max\": 891.0,\n        \"num_unique_values\": 5,\n        \"samples\": [\n          0.3838383838383838,\n          1.0,\n          0.4865924542648585\n        ],\n        \"semantic_type\": \"\",\n        \"description\": \"\"\n      }\n    },\n    {\n      \"column\": \"Pclass\",\n      \"properties\": {\n        \"dtype\": \"number\",\n        \"std\": 314.2523437079693,\n        \"min\": 0.8360712409770513,\n        \"max\": 891.0,\n        \"num_unique_values\": 6,\n        \"samples\": [\n          891.0,\n          2.308641975308642,\n          3.0\n        ],\n        \"semantic_type\": \"\",\n        \"description\": \"\"\n      }\n    },\n    {\n      \"column\": \"Age\",\n      \"properties\": {\n        \"dtype\": \"number\",\n        \"std\": 242.9056731818781,\n        \"min\": 0.42,\n        \"max\": 714.0,\n        \"num_unique_values\": 8,\n        \"samples\": [\n          29.69911764705882,\n          28.0,\n          714.0\n        ],\n        \"semantic_type\": \"\",\n        \"description\": \"\"\n      }\n    },\n    {\n      \"column\": \"SibSp\",\n      \"properties\": {\n        \"dtype\": \"number\",\n        \"std\": 314.4908277465442,\n        \"min\": 0.0,\n        \"max\": 891.0,\n        \"num_unique_values\": 6,\n        \"samples\": [\n          891.0,\n          0.5230078563411896,\n          8.0\n        ],\n        \"semantic_type\": \"\",\n        \"description\": \"\"\n      }\n    },\n    {\n      \"column\": \"Parch\",\n      \"properties\": {\n        \"dtype\": \"number\",\n        \"std\": 314.65971717879,\n        \"min\": 0.0,\n        \"max\": 891.0,\n        \"num_unique_values\": 5,\n        \"samples\": [\n          0.38159371492704824,\n          6.0,\n          0.8060572211299559\n        ],\n        \"semantic_type\": \"\",\n        \"description\": \"\"\n      }\n    },\n    {\n      \"column\": \"Fare\",\n      \"properties\": {\n        \"dtype\": \"number\",\n        \"std\": 330.6256632228577,\n        \"min\": 0.0,\n        \"max\": 891.0,\n        \"num_unique_values\": 8,\n        \"samples\": [\n          32.204207968574636,\n          14.4542,\n          891.0\n        ],\n        \"semantic_type\": \"\",\n        \"description\": \"\"\n      }\n    }\n  ]\n}"
            }
          },
          "metadata": {},
          "execution_count": 7
        }
      ]
    },
    {
      "cell_type": "code",
      "source": [
        "print(\"Missing Values in Training Data:\")\n",
        "print(train_df.isnull().sum())"
      ],
      "metadata": {
        "colab": {
          "base_uri": "https://localhost:8080/"
        },
        "id": "bR8QQapXbtUz",
        "outputId": "50693c80-e002-469c-b860-c1c66eba66d9"
      },
      "execution_count": 8,
      "outputs": [
        {
          "output_type": "stream",
          "name": "stdout",
          "text": [
            "Missing Values in Training Data:\n",
            "PassengerId      0\n",
            "Survived         0\n",
            "Pclass           0\n",
            "Name             0\n",
            "Sex              0\n",
            "Age            177\n",
            "SibSp            0\n",
            "Parch            0\n",
            "Ticket           0\n",
            "Fare             0\n",
            "Cabin          687\n",
            "Embarked         2\n",
            "dtype: int64\n"
          ]
        }
      ]
    },
    {
      "cell_type": "code",
      "source": [
        "plt.figure(figsize=(12, 6))\n",
        "sns.heatmap(train_df.isnull(), yticklabels=False, cbar=False, cmap='viridis')\n",
        "plt.title('Missing Values Heatmap - Training Data')\n",
        "plt.show()"
      ],
      "metadata": {
        "colab": {
          "base_uri": "https://localhost:8080/",
          "height": 545
        },
        "id": "78gBIzshbxwL",
        "outputId": "123e57ea-8e42-4791-cef0-f27ad940579a"
      },
      "execution_count": 9,
      "outputs": [
        {
          "output_type": "display_data",
          "data": {
            "text/plain": [
              "<Figure size 1200x600 with 1 Axes>"
            ],
            "image/png": "[encoded data removed]"
          },
          "metadata": {}
        }
      ]
    },
    {
      "cell_type": "code",
      "source": [
        "age_median = train_df['Age'].median()\n",
        "train_df['Age'].fillna(age_median, inplace=True)\n",
        "test_df['Age'].fillna(test_df['Age'].median(), inplace=True)"
      ],
      "metadata": {
        "colab": {
          "base_uri": "https://localhost:8080/"
        },
        "id": "i7LNjYlzb2nq",
        "outputId": "b55b486c-9b6a-473d-82ad-b0eaea3583ec"
      },
      "execution_count": 10,
      "outputs": [
        {
          "output_type": "stream",
          "name": "stderr",
          "text": [
            "/tmp/ipython-input-4225103097.py:2: FutureWarning: A value is trying to be set on a copy of a DataFrame or Series through chained assignment using an inplace method.\n",
            "The behavior will change in pandas 3.0. This inplace method will never work because the intermediate object on which we are setting values always behaves as a copy.\n",
            "\n",
            "For example, when doing 'df[col].method(value, inplace=True)', try using 'df.method({col: value}, inplace=True)' or df[col] = df[col].method(value) instead, to perform the operation inplace on the original object.\n",
            "\n",
            "\n",
            "  train_df['Age'].fillna(age_median, inplace=True)\n",
            "/tmp/ipython-input-4225103097.py:3: FutureWarning: A value is trying to be set on a copy of a DataFrame or Series through chained assignment using an inplace method.\n",
            "The behavior will change in pandas 3.0. This inplace method will never work because the intermediate object on which we are setting values always behaves as a copy.\n",
            "\n",
            "For example, when doing 'df[col].method(value, inplace=True)', try using 'df.method({col: value}, inplace=True)' or df[col] = df[col].method(value) instead, to perform the operation inplace on the original object.\n",
            "\n",
            "\n",
            "  test_df['Age'].fillna(test_df['Age'].median(), inplace=True)\n"
          ]
        }
      ]
    },
    {
      "cell_type": "code",
      "source": [
        "embarked_mode = train_df['Embarked'].mode()[0]\n",
        "train_df['Embarked'].fillna(embarked_mode, inplace=True)\n",
        "test_df['Embarked'].fillna(test_df['Embarked'].mode()[0], inplace=True)"
      ],
      "metadata": {
        "colab": {
          "base_uri": "https://localhost:8080/"
        },
        "id": "I5-2C95kcBr6",
        "outputId": "ed40f62f-526b-4748-f970-d73a4e2f439a"
      },
      "execution_count": 11,
      "outputs": [
        {
          "output_type": "stream",
          "name": "stderr",
          "text": [
            "/tmp/ipython-input-3177889303.py:2: FutureWarning: A value is trying to be set on a copy of a DataFrame or Series through chained assignment using an inplace method.\n",
            "The behavior will change in pandas 3.0. This inplace method will never work because the intermediate object on which we are setting values always behaves as a copy.\n",
            "\n",
            "For example, when doing 'df[col].method(value, inplace=True)', try using 'df.method({col: value}, inplace=True)' or df[col] = df[col].method(value) instead, to perform the operation inplace on the original object.\n",
            "\n",
            "\n",
            "  train_df['Embarked'].fillna(embarked_mode, inplace=True)\n",
            "/tmp/ipython-input-3177889303.py:3: FutureWarning: A value is trying to be set on a copy of a DataFrame or Series through chained assignment using an inplace method.\n",
            "The behavior will change in pandas 3.0. This inplace method will never work because the intermediate object on which we are setting values always behaves as a copy.\n",
            "\n",
            "For example, when doing 'df[col].method(value, inplace=True)', try using 'df.method({col: value}, inplace=True)' or df[col] = df[col].method(value) instead, to perform the operation inplace on the original object.\n",
            "\n",
            "\n",
            "  test_df['Embarked'].fillna(test_df['Embarked'].mode()[0], inplace=True)\n"
          ]
        }
      ]
    },
    {
      "cell_type": "code",
      "source": [
        "fare_median = test_df['Fare'].median()\n",
        "test_df['Fare'].fillna(fare_median, inplace=True)"
      ],
      "metadata": {
        "colab": {
          "base_uri": "https://localhost:8080/"
        },
        "id": "odHjcoLccDvf",
        "outputId": "5b3bde6b-7e1f-46c6-818b-37764e887305"
      },
      "execution_count": 12,
      "outputs": [
        {
          "output_type": "stream",
          "name": "stderr",
          "text": [
            "/tmp/ipython-input-974963242.py:2: FutureWarning: A value is trying to be set on a copy of a DataFrame or Series through chained assignment using an inplace method.\n",
            "The behavior will change in pandas 3.0. This inplace method will never work because the intermediate object on which we are setting values always behaves as a copy.\n",
            "\n",
            "For example, when doing 'df[col].method(value, inplace=True)', try using 'df.method({col: value}, inplace=True)' or df[col] = df[col].method(value) instead, to perform the operation inplace on the original object.\n",
            "\n",
            "\n",
            "  test_df['Fare'].fillna(fare_median, inplace=True)\n"
          ]
        }
      ]
    },
    {
      "cell_type": "code",
      "source": [
        "train_df['HasCabin'] = train_df['Cabin'].notnull().astype(int)\n",
        "test_df['HasCabin'] = test_df['Cabin'].notnull().astype(int)"
      ],
      "metadata": {
        "id": "DYHrlmGacI1R"
      },
      "execution_count": 13,
      "outputs": []
    },
    {
      "cell_type": "code",
      "source": [
        "train_df.drop('Cabin', axis=1, inplace=True)\n",
        "test_df.drop('Cabin', axis=1, inplace=True)"
      ],
      "metadata": {
        "id": "eSWieMDTcM9B"
      },
      "execution_count": 14,
      "outputs": []
    },
    {
      "cell_type": "code",
      "source": [
        "print(\"Missing values after handling:\")\n",
        "print(train_df.isnull().sum().sum(), \"missing values in training data\")\n",
        "print(test_df.isnull().sum().sum(), \"missing values in test data\")"
      ],
      "metadata": {
        "colab": {
          "base_uri": "https://localhost:8080/"
        },
        "id": "gB35-nCCcRLa",
        "outputId": "31d54f69-fafb-42bb-94f9-5726fb0d84c6"
      },
      "execution_count": 15,
      "outputs": [
        {
          "output_type": "stream",
          "name": "stdout",
          "text": [
            "Missing values after handling:\n",
            "0 missing values in training data\n",
            "0 missing values in test data\n"
          ]
        }
      ]
    },
    {
      "cell_type": "code",
      "source": [
        "plt.figure(figsize=(12, 5))\n",
        "plt.subplot(1, 2, 1)\n",
        "sns.histplot(train_df['Fare'], kde=True)\n",
        "plt.title('Original Fare Distribution')\n",
        "\n",
        "plt.subplot(1, 2, 2)\n",
        "sns.boxplot(x=train_df['Fare'])\n",
        "plt.title('Original Fare Boxplot')\n",
        "plt.tight_layout()\n",
        "plt.show()"
      ],
      "metadata": {
        "colab": {
          "base_uri": "https://localhost:8080/",
          "height": 478
        },
        "id": "rh2L9F3SfxUP",
        "outputId": "b1b997d4-ce7c-4f21-ad39-b949dc176189"
      },
      "execution_count": 23,
      "outputs": [
        {
          "output_type": "display_data",
          "data": {
            "text/plain": [
              "<Figure size 1200x500 with 2 Axes>"
            ],
            "image/png": "[encoded data removed]"
          },
          "metadata": {}
        }
      ]
    },
    {
      "cell_type": "code",
      "source": [
        "Q1 = train_df['Fare'].quantile(0.25)\n",
        "Q3 = train_df['Fare'].quantile(0.75)\n",
        "IQR = Q3 - Q1\n",
        "lower_bound_iqr = Q1 - 1.5 * IQR\n",
        "upper_bound_iqr = Q3 + 1.5 * IQR\n",
        "\n",
        "print(f\"Fare IQR: {IQR}\")\n",
        "print(f\"IQR Lower bound: {lower_bound_iqr}, Upper bound: {upper_bound_iqr}\")\n",
        "outliers_iqr = train_df[(train_df['Fare'] < lower_bound_iqr) | (train_df['Fare'] > upper_bound_iqr)]\n",
        "print(f\"Number of outliers detected by IQR: {len(outliers_iqr)}\")"
      ],
      "metadata": {
        "colab": {
          "base_uri": "https://localhost:8080/"
        },
        "id": "dStZeiL5fzoo",
        "outputId": "ec75fa19-ce5a-4792-e44e-f4a7b68c4e53"
      },
      "execution_count": 24,
      "outputs": [
        {
          "output_type": "stream",
          "name": "stdout",
          "text": [
            "Fare IQR: 23.0896\n",
            "IQR Lower bound: -26.724, Upper bound: 65.6344\n",
            "Number of outliers detected by IQR: 116\n"
          ]
        }
      ]
    },
    {
      "cell_type": "code",
      "source": [
        "from scipy.stats import zscore\n",
        "\n",
        "z_scores = zscore(train_df['Fare'].dropna())\n",
        "outliers_z = np.abs(z_scores) > 3\n",
        "\n",
        "print(f\"Number of outliers detected by Z-score: {outliers_z.sum()}\")"
      ],
      "metadata": {
        "colab": {
          "base_uri": "https://localhost:8080/"
        },
        "id": "xhWzDqGtf-g-",
        "outputId": "9a2cde23-5f2e-482c-825e-31413386a295"
      },
      "execution_count": 25,
      "outputs": [
        {
          "output_type": "stream",
          "name": "stdout",
          "text": [
            "Number of outliers detected by Z-score: 20\n"
          ]
        }
      ]
    },
    {
      "cell_type": "code",
      "source": [
        "from scipy.stats.mstats import winsorize\n",
        "\n",
        "train_df['Fare_winsorized'] = winsorize(train_df['Fare'], limits=[0, 0.05])\n",
        "test_df['Fare_winsorized'] = winsorize(test_df['Fare'], limits=[0, 0.05])"
      ],
      "metadata": {
        "id": "QzpmuEuqgF97"
      },
      "execution_count": 26,
      "outputs": []
    },
    {
      "cell_type": "code",
      "source": [
        "train_df['Fare_log'] = np.log1p(train_df['Fare'])\n",
        "test_df['Fare_log'] = np.log1p(test_df['Fare'])"
      ],
      "metadata": {
        "id": "zUtdXIsngQQh"
      },
      "execution_count": 27,
      "outputs": []
    },
    {
      "cell_type": "code",
      "source": [
        "fig, axes = plt.subplots(2, 2, figsize=(15, 10))\n",
        "\n",
        "sns.histplot(train_df['Fare_winsorized'], kde=True, ax=axes[0, 0])\n",
        "axes[0, 0].set_title('Winsorized Fare Distribution')\n",
        "\n",
        "sns.boxplot(x=train_df['Fare_winsorized'], ax=axes[0, 1])\n",
        "axes[0, 1].set_title('Winsorized Fare Boxplot')\n",
        "\n",
        "sns.histplot(train_df['Fare_log'], kde=True, ax=axes[1, 0])\n",
        "axes[1, 0].set_title('Log Fare Distribution')\n",
        "\n",
        "sns.boxplot(x=train_df['Fare_log'], ax=axes[1, 1])\n",
        "axes[1, 1].set_title('Log Fare Boxplot')\n",
        "\n",
        "plt.tight_layout()\n",
        "plt.show()"
      ],
      "metadata": {
        "colab": {
          "base_uri": "https://localhost:8080/",
          "height": 760
        },
        "id": "DGS3uII0gnPF",
        "outputId": "31f08043-44a1-48c5-899f-668cea6dc962"
      },
      "execution_count": 29,
      "outputs": [
        {
          "output_type": "display_data",
          "data": {
            "text/plain": [
              "<Figure size 1500x1000 with 4 Axes>"
            ],
            "image/png": "[encoded data removed]"
          },
          "metadata": {}
        }
      ]
    },
    {
      "cell_type": "code",
      "source": [
        "Q1_win = np.percentile(train_df['Fare_winsorized'], 25)\n",
        "Q3_win = np.percentile(train_df['Fare_winsorized'], 75)\n",
        "IQR_win = Q3_win - Q1_win\n",
        "lower_win = Q1_win - 1.5 * IQR_win\n",
        "upper_win = Q3_win + 1.5 * IQR_win\n",
        "\n",
        "outliers_win = train_df[(train_df['Fare_winsorized'] < lower_win) | (train_df['Fare_winsorized'] > upper_win)]\n",
        "print(f\"Outliers after winsorizing: {len(outliers_win)}\")"
      ],
      "metadata": {
        "colab": {
          "base_uri": "https://localhost:8080/"
        },
        "id": "i-4H6zNKg2o6",
        "outputId": "621ec197-e57d-4de3-d0da-1b8b16724cc9"
      },
      "execution_count": 33,
      "outputs": [
        {
          "output_type": "stream",
          "name": "stdout",
          "text": [
            "Outliers after winsorizing: 116\n"
          ]
        }
      ]
    },
    {
      "cell_type": "code",
      "source": [
        "Q1_log = np.percentile(train_df['Fare_log'], 25)\n",
        "Q3_log = np.percentile(train_df['Fare_log'], 75)\n",
        "IQR_log = Q3_log - Q1_log\n",
        "lower_log = Q1_log - 1.5 * IQR_log\n",
        "upper_log = Q3_log + 1.5 * IQR_log\n",
        "\n",
        "outliers_log = train_df[(train_df['Fare_log'] < lower_log) | (train_df['Fare_log'] > upper_log)]\n",
        "print(f\"Outliers after log transformation: {len(outliers_log)}\")"
      ],
      "metadata": {
        "colab": {
          "base_uri": "https://localhost:8080/"
        },
        "id": "TEKkU-NQg8eb",
        "outputId": "b433b397-2cfe-4798-a878-acd3e41906c8"
      },
      "execution_count": 31,
      "outputs": [
        {
          "output_type": "stream",
          "name": "stdout",
          "text": [
            "Outliers after log transformation: 31\n"
          ]
        }
      ]
    },
    {
      "cell_type": "code",
      "source": [
        "train_df['Fare_processed'] = train_df['Fare_log']\n",
        "test_df['Fare_processed'] = test_df['Fare_log']\n",
        "\n",
        "print(\"Fare outliers handled using log transformation\")"
      ],
      "metadata": {
        "colab": {
          "base_uri": "https://localhost:8080/"
        },
        "id": "yC9U1ZlqhJv9",
        "outputId": "635da455-959c-4c67-8c05-2e8dd0aa61f6"
      },
      "execution_count": 34,
      "outputs": [
        {
          "output_type": "stream",
          "name": "stdout",
          "text": [
            "Fare outliers handled using log transformation\n"
          ]
        }
      ]
    },
    {
      "cell_type": "code",
      "source": [
        "train_df['Title'] = train_df['Name'].str.extract(' ([A-Za-z]+)\\.', expand=False)\n",
        "test_df['Title'] = test_df['Name'].str.extract(' ([A-Za-z]+)\\.', expand=False)\n",
        "\n",
        "print(\"Unique titles in training data:\")\n",
        "print(train_df['Title'].value_counts())\n",
        "print(\"\\nUnique titles in test data:\")\n",
        "print(test_df['Title'].value_counts())\n",
        "\n",
        "all_titles = set(train_df['Title'].unique()).union(set(test_df['Title'].unique()))\n",
        "print(f\"\\nAll unique titles across both datasets: {all_titles}\")"
      ],
      "metadata": {
        "colab": {
          "base_uri": "https://localhost:8080/"
        },
        "id": "W6zqBxCbi-Xp",
        "outputId": "276dda3e-0d44-415e-858c-18149a8fddf8"
      },
      "execution_count": 35,
      "outputs": [
        {
          "output_type": "stream",
          "name": "stdout",
          "text": [
            "Unique titles in training data:\n",
            "Title\n",
            "Mr          517\n",
            "Miss        182\n",
            "Mrs         125\n",
            "Master       40\n",
            "Dr            7\n",
            "Rev           6\n",
            "Col           2\n",
            "Mlle          2\n",
            "Major         2\n",
            "Ms            1\n",
            "Mme           1\n",
            "Don           1\n",
            "Lady          1\n",
            "Sir           1\n",
            "Capt          1\n",
            "Countess      1\n",
            "Jonkheer      1\n",
            "Name: count, dtype: int64\n",
            "\n",
            "Unique titles in test data:\n",
            "Title\n",
            "Mr        240\n",
            "Miss       78\n",
            "Mrs        72\n",
            "Master     21\n",
            "Col         2\n",
            "Rev         2\n",
            "Ms          1\n",
            "Dr          1\n",
            "Dona        1\n",
            "Name: count, dtype: int64\n",
            "\n",
            "All unique titles across both datasets: {'Jonkheer', 'Dona', 'Major', 'Mlle', 'Countess', 'Lady', 'Ms', 'Mr', 'Dr', 'Mrs', 'Mme', 'Rev', 'Sir', 'Don', 'Col', 'Master', 'Capt', 'Miss'}\n"
          ]
        },
        {
          "output_type": "stream",
          "name": "stderr",
          "text": [
            "<>:1: SyntaxWarning: invalid escape sequence '\\.'\n",
            "<>:2: SyntaxWarning: invalid escape sequence '\\.'\n",
            "<>:1: SyntaxWarning: invalid escape sequence '\\.'\n",
            "<>:2: SyntaxWarning: invalid escape sequence '\\.'\n",
            "/tmp/ipython-input-3086790232.py:1: SyntaxWarning: invalid escape sequence '\\.'\n",
            "  train_df['Title'] = train_df['Name'].str.extract(' ([A-Za-z]+)\\.', expand=False)\n",
            "/tmp/ipython-input-3086790232.py:2: SyntaxWarning: invalid escape sequence '\\.'\n",
            "  test_df['Title'] = test_df['Name'].str.extract(' ([A-Za-z]+)\\.', expand=False)\n"
          ]
        }
      ]
    },
    {
      "cell_type": "code",
      "source": [
        "train_df['FamilySize'] = train_df['SibSp'] + train_df['Parch'] + 1\n",
        "test_df['FamilySize'] = test_df['SibSp'] + test_df['Parch'] + 1\n",
        "\n",
        "train_df['IsAlone'] = (train_df['FamilySize'] == 1).astype(int)\n",
        "test_df['IsAlone'] = (test_df['FamilySize'] == 1).astype(int)\n",
        "\n",
        "train_df['HasSiblings'] = (train_df['SibSp'] > 0).astype(int)\n",
        "test_df['HasSiblings'] = (test_df['SibSp'] > 0).astype(int)\n",
        "\n",
        "train_df['ChildWithParents'] = ((train_df['Age'] < 18) & (train_df['Parch'] > 0)).astype(int)\n",
        "test_df['ChildWithParents'] = ((test_df['Age'] < 18) & (test_df['Parch'] > 0)).astype(int)\n",
        "\n",
        "train_df['AdultWithChildren'] = ((train_df['Age'] >= 18) & (train_df['Parch'] > 0)).astype(int)\n",
        "test_df['AdultWithChildren'] = ((test_df['Age'] >= 18) & (test_df['Parch'] > 0)).astype(int)"
      ],
      "metadata": {
        "id": "_xsTskWLyI-K"
      },
      "execution_count": 37,
      "outputs": []
    },
    {
      "cell_type": "code",
      "source": [
        "categorical_cols = ['Sex', 'Embarked', 'Title']\n",
        "\n",
        "train_encoded = pd.get_dummies(train_df[categorical_cols], prefix=categorical_cols)\n",
        "test_encoded = pd.get_dummies(test_df[categorical_cols], prefix=categorical_cols)"
      ],
      "metadata": {
        "id": "bS7l6eiczhbx"
      },
      "execution_count": 38,
      "outputs": []
    },
    {
      "cell_type": "code",
      "source": [
        "for col in train_encoded.columns:\n",
        "    if col not in test_encoded.columns:\n",
        "        test_encoded[col] = 0\n",
        "\n",
        "for col in test_encoded.columns:\n",
        "    if col not in train_encoded.columns:\n",
        "        train_encoded[col] = 0\n",
        "\n",
        "all_columns = sorted(set(train_encoded.columns).union(set(test_encoded.columns)))\n",
        "train_encoded = train_encoded.reindex(columns=all_columns).fillna(0)\n",
        "test_encoded = test_encoded.reindex(columns=all_columns).fillna(0)\n",
        "\n",
        "train_df = pd.concat([train_df, train_encoded], axis=1)\n",
        "test_df = pd.concat([test_df, test_encoded], axis=1)\n",
        "\n",
        "train_df.drop(categorical_cols, axis=1, inplace=True)\n",
        "test_df.drop(categorical_cols, axis=1, inplace=True)\n",
        "\n",
        "train_df.drop(['Name', 'Ticket'], axis=1, inplace=True)\n",
        "test_df.drop(['Name', 'Ticket'], axis=1, inplace=True)"
      ],
      "metadata": {
        "id": "eRu7j5fYz88D"
      },
      "execution_count": 39,
      "outputs": []
    },
    {
      "cell_type": "code",
      "source": [
        "print(\"\\nSelected family-related features in training data:\")\n",
        "selected_family_features = ['FamilySize', 'IsAlone', 'HasSiblings', 'ChildWithParents', 'AdultWithChildren']\n",
        "\n",
        "print(\"Selected family features sample:\")\n",
        "print(train_df[selected_family_features].head(10))"
      ],
      "metadata": {
        "colab": {
          "base_uri": "https://localhost:8080/"
        },
        "id": "4r22sS9T0LY0",
        "outputId": "4b344b5a-8013-4f05-a2da-c64ee006ec9f"
      },
      "execution_count": 40,
      "outputs": [
        {
          "output_type": "stream",
          "name": "stdout",
          "text": [
            "\n",
            "Selected family-related features in training data:\n",
            "Selected family features sample:\n",
            "   FamilySize  IsAlone  HasSiblings  ChildWithParents  AdultWithChildren\n",
            "0           2        0            1                 0                  0\n",
            "1           2        0            1                 0                  0\n",
            "2           1        1            0                 0                  0\n",
            "3           2        0            1                 0                  0\n",
            "4           1        1            0                 0                  0\n",
            "5           1        1            0                 0                  0\n",
            "6           1        1            0                 0                  0\n",
            "7           5        0            1                 1                  0\n",
            "8           3        0            0                 0                  1\n",
            "9           2        0            1                 0                  0\n"
          ]
        }
      ]
    },
    {
      "cell_type": "code",
      "source": [
        "family_survival_corr = train_df[selected_family_features + ['Survived']].corr()['Survived'].sort_values(ascending=False)\n",
        "print(\"\\nCorrelation of selected family features with survival:\")\n",
        "print(family_survival_corr)"
      ],
      "metadata": {
        "colab": {
          "base_uri": "https://localhost:8080/"
        },
        "id": "eGbkgRQa0Zpo",
        "outputId": "66138a0e-6a76-4d04-e031-bd509c10c24c"
      },
      "execution_count": 41,
      "outputs": [
        {
          "output_type": "stream",
          "name": "stdout",
          "text": [
            "\n",
            "Correlation of selected family features with survival:\n",
            "Survived             1.000000\n",
            "HasSiblings          0.115867\n",
            "ChildWithParents     0.111659\n",
            "AdultWithChildren    0.086618\n",
            "FamilySize           0.016639\n",
            "IsAlone             -0.203367\n",
            "Name: Survived, dtype: float64\n"
          ]
        }
      ]
    },
    {
      "cell_type": "code",
      "source": [
        "print(\"\\nSurvival rates by feature:\")\n",
        "for feature in selected_family_features:\n",
        "    if train_df[feature].dtype == 'int64':\n",
        "        survival_rate = train_df.groupby(feature)['Survived'].mean()\n",
        "        print(f\"\\n{feature} survival rate:\")\n",
        "        print(survival_rate)\n",
        "\n",
        "print(\"\\nData types after encoding:\")\n",
        "print(train_df.dtypes)"
      ],
      "metadata": {
        "colab": {
          "base_uri": "https://localhost:8080/"
        },
        "id": "sX4-qpLH0hMk",
        "outputId": "dbc11147-fe19-4496-cf59-460cc954a17a"
      },
      "execution_count": 42,
      "outputs": [
        {
          "output_type": "stream",
          "name": "stdout",
          "text": [
            "\n",
            "Survival rates by feature:\n",
            "\n",
            "FamilySize survival rate:\n",
            "FamilySize\n",
            "1     0.303538\n",
            "2     0.552795\n",
            "3     0.578431\n",
            "4     0.724138\n",
            "5     0.200000\n",
            "6     0.136364\n",
            "7     0.333333\n",
            "8     0.000000\n",
            "11    0.000000\n",
            "Name: Survived, dtype: float64\n",
            "\n",
            "IsAlone survival rate:\n",
            "IsAlone\n",
            "0    0.505650\n",
            "1    0.303538\n",
            "Name: Survived, dtype: float64\n",
            "\n",
            "HasSiblings survival rate:\n",
            "HasSiblings\n",
            "0    0.345395\n",
            "1    0.466431\n",
            "Name: Survived, dtype: float64\n",
            "\n",
            "ChildWithParents survival rate:\n",
            "ChildWithParents\n",
            "0    0.366667\n",
            "1    0.555556\n",
            "Name: Survived, dtype: float64\n",
            "\n",
            "AdultWithChildren survival rate:\n",
            "AdultWithChildren\n",
            "0    0.366271\n",
            "1    0.484848\n",
            "Name: Survived, dtype: float64\n",
            "\n",
            "Data types after encoding:\n",
            "PassengerId            int64\n",
            "Survived               int64\n",
            "Pclass                 int64\n",
            "Age                  float64\n",
            "SibSp                  int64\n",
            "Parch                  int64\n",
            "Fare                 float64\n",
            "HasCabin               int64\n",
            "Fare_log             float64\n",
            "Fare_winsorized      float64\n",
            "Fare_processed       float64\n",
            "FamilySize             int64\n",
            "IsAlone                int64\n",
            "HasSiblings            int64\n",
            "ChildWithParents       int64\n",
            "AdultWithChildren      int64\n",
            "Embarked_C              bool\n",
            "Embarked_Q              bool\n",
            "Embarked_S              bool\n",
            "Sex_female              bool\n",
            "Sex_male                bool\n",
            "Title_Capt              bool\n",
            "Title_Col               bool\n",
            "Title_Countess          bool\n",
            "Title_Don               bool\n",
            "Title_Dona             int64\n",
            "Title_Dr                bool\n",
            "Title_Jonkheer          bool\n",
            "Title_Lady              bool\n",
            "Title_Major             bool\n",
            "Title_Master            bool\n",
            "Title_Miss              bool\n",
            "Title_Mlle              bool\n",
            "Title_Mme               bool\n",
            "Title_Mr                bool\n",
            "Title_Mrs               bool\n",
            "Title_Ms                bool\n",
            "Title_Rev               bool\n",
            "Title_Sir               bool\n",
            "dtype: object\n"
          ]
        }
      ]
    },
    {
      "cell_type": "code",
      "source": [
        "numerical_features = ['Age', 'Fare', 'SibSp', 'Parch', 'FamilySize']\n",
        "categorical_features = [col for col in train_df.columns if col.startswith(('Sex_', 'Embarked_', 'Title_'))]\n",
        "family_features = ['IsAlone', 'HasSiblings', 'ChildWithParents', 'AdultWithChildren']\n",
        "\n",
        "all_features = numerical_features + categorical_features + family_features\n",
        "target = 'Survived'\n",
        "\n",
        "print(f\"Total features: {len(all_features)}\")\n",
        "print(f\"Numerical features: {numerical_features}\")\n",
        "print(f\"Categorical features: {categorical_features[:5]}...\")\n",
        "print(f\"Family features: {family_features}\")"
      ],
      "metadata": {
        "colab": {
          "base_uri": "https://localhost:8080/"
        },
        "id": "Zk2w12cP1eCz",
        "outputId": "2b8d608f-2836-4e22-b3dd-4eab73dbdd6e"
      },
      "execution_count": 43,
      "outputs": [
        {
          "output_type": "stream",
          "name": "stdout",
          "text": [
            "Total features: 32\n",
            "Numerical features: ['Age', 'Fare', 'SibSp', 'Parch', 'FamilySize']\n",
            "Categorical features: ['Embarked_C', 'Embarked_Q', 'Embarked_S', 'Sex_female', 'Sex_male']...\n",
            "Family features: ['IsAlone', 'HasSiblings', 'ChildWithParents', 'AdultWithChildren']\n"
          ]
        }
      ]
    },
    {
      "cell_type": "code",
      "source": [
        "from sklearn.preprocessing import MinMaxScaler\n",
        "\n",
        "minmax_scaler = MinMaxScaler()\n",
        "train_minmax = minmax_scaler.fit_transform(train_df[numerical_features])\n",
        "test_minmax = minmax_scaler.transform(test_df[numerical_features])"
      ],
      "metadata": {
        "id": "o7hAWDsG1p5w"
      },
      "execution_count": 44,
      "outputs": []
    },
    {
      "cell_type": "code",
      "source": [
        "train_minmax_df = pd.DataFrame(\n",
        "    train_minmax,\n",
        "    columns=[f'{col}_minmax' for col in numerical_features],\n",
        "    index=train_df.index\n",
        ")\n",
        "test_minmax_df = pd.DataFrame(\n",
        "    test_minmax,\n",
        "    columns=[f'{col}_minmax' for col in numerical_features],\n",
        "    index=test_df.index\n",
        ")"
      ],
      "metadata": {
        "id": "T_pSgplt19p-"
      },
      "execution_count": 45,
      "outputs": []
    },
    {
      "cell_type": "code",
      "source": [
        "from sklearn.preprocessing import StandardScaler\n",
        "\n",
        "standard_scaler = StandardScaler()\n",
        "train_standard = standard_scaler.fit_transform(train_df[numerical_features])\n",
        "test_standard = standard_scaler.transform(test_df[numerical_features])"
      ],
      "metadata": {
        "id": "NVVuomgi2F5M"
      },
      "execution_count": 46,
      "outputs": []
    },
    {
      "cell_type": "code",
      "source": [
        "train_standard_df = pd.DataFrame(\n",
        "    train_standard,\n",
        "    columns=[f'{col}_standard' for col in numerical_features],\n",
        "    index=train_df.index\n",
        ")\n",
        "test_standard_df = pd.DataFrame(\n",
        "    test_standard,\n",
        "    columns=[f'{col}_standard' for col in numerical_features],\n",
        "    index=test_df.index\n",
        ")"
      ],
      "metadata": {
        "id": "x2EJGsec2LIa"
      },
      "execution_count": 47,
      "outputs": []
    },
    {
      "cell_type": "code",
      "source": [
        "train_df = pd.concat([train_df, train_minmax_df, train_standard_df], axis=1)\n",
        "test_df = pd.concat([test_df, test_minmax_df, test_standard_df], axis=1)"
      ],
      "metadata": {
        "id": "QUWZBgul2TGo"
      },
      "execution_count": 48,
      "outputs": []
    },
    {
      "cell_type": "code",
      "source": [
        "X = train_df[all_features]\n",
        "y = train_df[target]\n",
        "\n",
        "print(f\"Shape of feature matrix: {X.shape}\")"
      ],
      "metadata": {
        "colab": {
          "base_uri": "https://localhost:8080/"
        },
        "id": "i9DteCbL2oBl",
        "outputId": "9e56fc62-7a4a-455b-a24b-0ff29f565b58"
      },
      "execution_count": 49,
      "outputs": [
        {
          "output_type": "stream",
          "name": "stdout",
          "text": [
            "Shape of feature matrix: (891, 32)\n"
          ]
        }
      ]
    },
    {
      "cell_type": "code",
      "source": [
        "correlation_with_target = X.corrwith(y).abs().sort_values(ascending=False)\n",
        "\n",
        "print(\"Top features by correlation with target:\")\n",
        "print(correlation_with_target.head(15))\n",
        "\n",
        "correlation_threshold = 0.1\n",
        "selected_features_corr = correlation_with_target[correlation_with_target > correlation_threshold].index.tolist()\n",
        "\n",
        "print(f\"\\nSelected {len(selected_features_corr)} features using correlation threshold {correlation_threshold}:\")\n",
        "print(selected_features_corr)"
      ],
      "metadata": {
        "colab": {
          "base_uri": "https://localhost:8080/"
        },
        "id": "mzdwhUuC2wTD",
        "outputId": "9d02d66a-80f2-4c90-a3e4-c8889c18ea1c"
      },
      "execution_count": 50,
      "outputs": [
        {
          "output_type": "stream",
          "name": "stdout",
          "text": [
            "Top features by correlation with target:\n",
            "Title_Mr             0.549199\n",
            "Sex_male             0.543351\n",
            "Sex_female           0.543351\n",
            "Title_Mrs            0.339040\n",
            "Title_Miss           0.327093\n",
            "Fare                 0.257307\n",
            "IsAlone              0.203367\n",
            "Embarked_C           0.168240\n",
            "Embarked_S           0.149683\n",
            "HasSiblings          0.115867\n",
            "ChildWithParents     0.111659\n",
            "AdultWithChildren    0.086618\n",
            "Title_Master         0.085221\n",
            "Parch                0.081629\n",
            "Title_Rev            0.064988\n",
            "dtype: float64\n",
            "\n",
            "Selected 11 features using correlation threshold 0.1:\n",
            "['Title_Mr', 'Sex_male', 'Sex_female', 'Title_Mrs', 'Title_Miss', 'Fare', 'IsAlone', 'Embarked_C', 'Embarked_S', 'HasSiblings', 'ChildWithParents']\n"
          ]
        },
        {
          "output_type": "stream",
          "name": "stderr",
          "text": [
            "/usr/local/lib/python3.12/dist-packages/numpy/lib/_function_base_impl.py:2922: RuntimeWarning: invalid value encountered in divide\n",
            "  c /= stddev[:, None]\n",
            "/usr/local/lib/python3.12/dist-packages/numpy/lib/_function_base_impl.py:2923: RuntimeWarning: invalid value encountered in divide\n",
            "  c /= stddev[None, :]\n"
          ]
        }
      ]
    },
    {
      "cell_type": "code",
      "source": [
        "from sklearn.ensemble import RandomForestClassifier\n",
        "\n",
        "rf = RandomForestClassifier(n_estimators=100, random_state=42, n_jobs=-1)\n",
        "rf.fit(X, y)\n",
        "\n",
        "feature_importances = pd.DataFrame({'feature': all_features,'importance': rf.feature_importances_}).sort_values('importance', ascending=False)\n",
        "\n",
        "print(\"\\nTop features by Random Forest importance:\")\n",
        "print(feature_importances.head(15))"
      ],
      "metadata": {
        "colab": {
          "base_uri": "https://localhost:8080/"
        },
        "id": "gWa3MU8a2649",
        "outputId": "c5dd4203-be35-499e-a532-b0ca8edcc79e"
      },
      "execution_count": 52,
      "outputs": [
        {
          "output_type": "stream",
          "name": "stdout",
          "text": [
            "\n",
            "Top features by Random Forest importance:\n",
            "             feature  importance\n",
            "1               Fare    0.281067\n",
            "0                Age    0.219273\n",
            "23          Title_Mr    0.098062\n",
            "9           Sex_male    0.080505\n",
            "8         Sex_female    0.076871\n",
            "4         FamilySize    0.047483\n",
            "2              SibSp    0.034769\n",
            "24         Title_Mrs    0.028122\n",
            "20        Title_Miss    0.026463\n",
            "3              Parch    0.021764\n",
            "7         Embarked_S    0.013294\n",
            "5         Embarked_C    0.012281\n",
            "29       HasSiblings    0.010383\n",
            "19      Title_Master    0.009308\n",
            "30  ChildWithParents    0.008345\n"
          ]
        }
      ]
    },
    {
      "cell_type": "code",
      "source": [
        "importance_threshold = 0.01\n",
        "selected_features_rf = feature_importances[feature_importances['importance'] > importance_threshold]['feature'].tolist()\n",
        "\n",
        "print(f\"\\nSelected {len(selected_features_rf)} features using importance threshold {importance_threshold}:\")\n",
        "print(selected_features_rf)"
      ],
      "metadata": {
        "colab": {
          "base_uri": "https://localhost:8080/"
        },
        "id": "_onI-FBH3Y37",
        "outputId": "a77adae1-0fc8-44e0-e735-c501bb787b48"
      },
      "execution_count": 53,
      "outputs": [
        {
          "output_type": "stream",
          "name": "stdout",
          "text": [
            "\n",
            "Selected 13 features using importance threshold 0.01:\n",
            "['Fare', 'Age', 'Title_Mr', 'Sex_male', 'Sex_female', 'FamilySize', 'SibSp', 'Title_Mrs', 'Title_Miss', 'Parch', 'Embarked_S', 'Embarked_C', 'HasSiblings']\n"
          ]
        }
      ]
    },
    {
      "cell_type": "code",
      "source": [
        "from sklearn.feature_selection import SelectKBest, f_classif\n",
        "\n",
        "selector = SelectKBest(score_func=f_classif, k='all')\n",
        "selector.fit(X, y)\n",
        "\n",
        "anova_scores = pd.DataFrame({'feature': all_features,'f_score': selector.scores_,'p_value': selector.pvalues_}).sort_values('f_score', ascending=False)\n",
        "\n",
        "print(\"\\nTop features by ANOVA F-test:\")\n",
        "print(anova_scores.head(15))\n",
        "\n",
        "selected_features_anova = anova_scores[anova_scores['p_value'] < 0.05]['feature'].tolist()\n",
        "\n",
        "print(f\"\\nSelected {len(selected_features_anova)} features using ANOVA (p < 0.05):\")\n",
        "print(selected_features_anova)"
      ],
      "metadata": {
        "colab": {
          "base_uri": "https://localhost:8080/"
        },
        "id": "MjNT5Zcz3hDX",
        "outputId": "91066618-715a-409b-ed58-2bfb8c25f3d8"
      },
      "execution_count": 54,
      "outputs": [
        {
          "output_type": "stream",
          "name": "stdout",
          "text": [
            "\n",
            "Top features by ANOVA F-test:\n",
            "              feature     f_score       p_value\n",
            "23           Title_Mr  383.945495  2.428783e-71\n",
            "8          Sex_female  372.405724  1.406066e-69\n",
            "9            Sex_male  372.405724  1.406066e-69\n",
            "24          Title_Mrs  115.461086  2.094127e-25\n",
            "20         Title_Miss  106.509051  1.159991e-23\n",
            "1                Fare   63.030764  6.120189e-15\n",
            "28            IsAlone   38.353651  9.009490e-10\n",
            "5          Embarked_C   25.895987  4.397151e-07\n",
            "7          Embarked_S   20.374460  7.223241e-06\n",
            "29        HasSiblings   12.097484  5.293963e-04\n",
            "30   ChildWithParents   11.223669  8.416110e-04\n",
            "31  AdultWithChildren    6.720339  9.688437e-03\n",
            "19       Title_Master    6.503635  1.093211e-02\n",
            "3               Parch    5.963464  1.479925e-02\n",
            "26          Title_Rev    3.770523  5.247894e-02\n",
            "\n",
            "Selected 14 features using ANOVA (p < 0.05):\n",
            "['Title_Mr', 'Sex_female', 'Sex_male', 'Title_Mrs', 'Title_Miss', 'Fare', 'IsAlone', 'Embarked_C', 'Embarked_S', 'HasSiblings', 'ChildWithParents', 'AdultWithChildren', 'Title_Master', 'Parch']\n"
          ]
        },
        {
          "output_type": "stream",
          "name": "stderr",
          "text": [
            "/usr/local/lib/python3.12/dist-packages/sklearn/feature_selection/_univariate_selection.py:111: UserWarning: Features [14] are constant.\n",
            "  warnings.warn(\"Features %s are constant.\" % constant_features_idx, UserWarning)\n",
            "/usr/local/lib/python3.12/dist-packages/sklearn/feature_selection/_univariate_selection.py:112: RuntimeWarning: invalid value encountered in divide\n",
            "  f = msb / msw\n"
          ]
        }
      ]
    },
    {
      "cell_type": "code",
      "source": [
        "print(\"\\nComparison of feature selection methods:\")\n",
        "print(f\"Correlation method selected {len(selected_features_corr)} features\")\n",
        "print(f\"Random Forest method selected {len(selected_features_rf)} features\")\n",
        "print(f\"ANOVA method selected {len(selected_features_anova)} features\")"
      ],
      "metadata": {
        "colab": {
          "base_uri": "https://localhost:8080/"
        },
        "id": "z3hxrwCC4QmD",
        "outputId": "3e1fa1db-821f-4b5a-e16d-e38dba523918"
      },
      "execution_count": 55,
      "outputs": [
        {
          "output_type": "stream",
          "name": "stdout",
          "text": [
            "\n",
            "Comparison of feature selection methods:\n",
            "Correlation method selected 11 features\n",
            "Random Forest method selected 13 features\n",
            "ANOVA method selected 14 features\n"
          ]
        }
      ]
    },
    {
      "cell_type": "code",
      "source": [
        "common_features = set(selected_features_corr) & set(selected_features_rf) & set(selected_features_anova)\n",
        "print(f\"\\nCommon features across all methods ({len(common_features)}):\")\n",
        "print(common_features)"
      ],
      "metadata": {
        "colab": {
          "base_uri": "https://localhost:8080/"
        },
        "id": "JoNig0nW4gce",
        "outputId": "48fdc5a2-0854-4ba0-a3eb-af333e53e9a6"
      },
      "execution_count": 56,
      "outputs": [
        {
          "output_type": "stream",
          "name": "stdout",
          "text": [
            "\n",
            "Common features across all methods (9):\n",
            "{'Title_Mr', 'Embarked_C', 'Sex_male', 'Sex_female', 'Title_Miss', 'HasSiblings', 'Title_Mrs', 'Fare', 'Embarked_S'}\n"
          ]
        }
      ]
    },
    {
      "cell_type": "code",
      "source": [
        "all_selected_features = list(set(selected_features_corr) | set(selected_features_rf) | set(selected_features_anova))\n",
        "print(f\"\\nUnion of all selected features ({len(all_selected_features)}):\")\n",
        "print(all_selected_features)"
      ],
      "metadata": {
        "colab": {
          "base_uri": "https://localhost:8080/"
        },
        "id": "_JbKvlGT4jIA",
        "outputId": "cf186f88-82a1-4f8b-aeac-fafdeb53485e"
      },
      "execution_count": 57,
      "outputs": [
        {
          "output_type": "stream",
          "name": "stdout",
          "text": [
            "\n",
            "Union of all selected features (17):\n",
            "['Sex_male', 'HasSiblings', 'Title_Mrs', 'Fare', 'Embarked_S', 'Title_Mr', 'Embarked_C', 'Sex_female', 'SibSp', 'Parch', 'Title_Master', 'Title_Miss', 'AdultWithChildren', 'Age', 'IsAlone', 'ChildWithParents', 'FamilySize']\n"
          ]
        }
      ]
    },
    {
      "cell_type": "code",
      "source": [
        "plt.figure(figsize=(15, 10))\n",
        "\n",
        "plt.subplot(3, 1, 1)\n",
        "correlation_with_target.head(15).plot(kind='bar')\n",
        "plt.title('Top 15 Features by Correlation with Survival')\n",
        "plt.ylabel('Absolute Correlation')"
      ],
      "metadata": {
        "colab": {
          "base_uri": "https://localhost:8080/",
          "height": 402
        },
        "id": "dZ9AC-Oi4ydy",
        "outputId": "83eb555c-63b8-482d-837d-3a9004eea745"
      },
      "execution_count": 58,
      "outputs": [
        {
          "output_type": "execute_result",
          "data": {
            "text/plain": [
              "Text(0, 0.5, 'Absolute Correlation')"
            ]
          },
          "metadata": {},
          "execution_count": 58
        },
        {
          "output_type": "display_data",
          "data": {
            "text/plain": [
              "<Figure size 1500x1000 with 1 Axes>"
            ],
            "image/png": "[encoded data removed]"
          },
          "metadata": {}
        }
      ]
    },
    {
      "cell_type": "code",
      "source": [
        "plt.subplot(3, 1, 2)\n",
        "feature_importances.head(15).set_index('feature')['importance'].plot(kind='bar')\n",
        "plt.title('Top 15 Features by Random Forest Importance')\n",
        "plt.ylabel('Importance')"
      ],
      "metadata": {
        "colab": {
          "base_uri": "https://localhost:8080/",
          "height": 360
        },
        "id": "hDm1g8Ht43N1",
        "outputId": "6d66ed76-4fce-4543-97da-21e4641b899e"
      },
      "execution_count": 59,
      "outputs": [
        {
          "output_type": "execute_result",
          "data": {
            "text/plain": [
              "Text(0, 0.5, 'Importance')"
            ]
          },
          "metadata": {},
          "execution_count": 59
        },
        {
          "output_type": "display_data",
          "data": {
            "text/plain": [
              "<Figure size 1000x600 with 1 Axes>"
            ],
            "image/png": "[encoded data removed]"
          },
          "metadata": {}
        }
      ]
    },
    {
      "cell_type": "code",
      "source": [
        "plt.subplot(3, 1, 3)\n",
        "anova_scores.head(15).set_index('feature')['f_score'].plot(kind='bar')\n",
        "plt.title('Top 15 Features by ANOVA F-score')\n",
        "plt.ylabel('F-score')\n",
        "\n",
        "plt.tight_layout()\n",
        "plt.show()"
      ],
      "metadata": {
        "colab": {
          "base_uri": "https://localhost:8080/",
          "height": 327
        },
        "id": "Hpd6X-NU499X",
        "outputId": "f0d6ca3b-6241-4813-e167-98b651c2085b"
      },
      "execution_count": 60,
      "outputs": [
        {
          "output_type": "display_data",
          "data": {
            "text/plain": [
              "<Figure size 1000x600 with 1 Axes>"
            ],
            "image/png": "[encoded data removed]"
          },
          "metadata": {}
        }
      ]
    },
    {
      "cell_type": "code",
      "source": [
        "final_features = all_selected_features\n",
        "print(f\"\\nFinal selected features for modeling ({len(final_features)}):\")\n",
        "print(final_features)\n",
        "\n",
        "X_final = train_df[final_features]\n",
        "X_test_final = test_df[final_features]\n",
        "\n",
        "print(f\"\\nFinal training set shape: {X_final.shape}\")\n",
        "print(f\"Final test set shape: {X_test_final.shape}\")"
      ],
      "metadata": {
        "colab": {
          "base_uri": "https://localhost:8080/"
        },
        "id": "GC_FzlVc5HH8",
        "outputId": "a3539da8-8d2f-40d3-dea9-ed1ff317aefc"
      },
      "execution_count": 61,
      "outputs": [
        {
          "output_type": "stream",
          "name": "stdout",
          "text": [
            "\n",
            "Final selected features for modeling (17):\n",
            "['Sex_male', 'HasSiblings', 'Title_Mrs', 'Fare', 'Embarked_S', 'Title_Mr', 'Embarked_C', 'Sex_female', 'SibSp', 'Parch', 'Title_Master', 'Title_Miss', 'AdultWithChildren', 'Age', 'IsAlone', 'ChildWithParents', 'FamilySize']\n",
            "\n",
            "Final training set shape: (891, 17)\n",
            "Final test set shape: (418, 17)\n"
          ]
        }
      ]
    },
    {
      "cell_type": "markdown",
      "source": [
        "**Bias Note on representativeness of Titanic passengers**"
      ],
      "metadata": {
        "id": "8pTNdMKY8TfF"
      }
    },
    {
      "cell_type": "code",
      "source": [
        "The Titanic dataset exhibits several sampling biases that affect its representativeness.\n",
        "There is significant class imbalance, with third-class passengers being overrepresented in the passenger list but having systematically different characteristics and outcomes compared to higher classes.\n",
        "Gender representation is skewed in survival rates, reflecting the evacuation protocols rather than natural population distributions.\n",
        "Age distribution is uneven, with certain age groups having substantially different survival patterns.\n",
        "The dataset also contains missing information patterns that are not random, particularly for variables like Age and Cabin, which correlate with passenger class.\n",
        "These biases mean that models trained on this data may learn patterns specific to these structural inequalities rather than generalizable relationships.\n",
        "The dataset represents a specific snapshot with inherent sampling limitations that must be considered when interpreting analytical results or making generalizations beyond this specific passenger population.\n"
      ],
      "metadata": {
        "id": "BBCgAIXp8abw"
      },
      "execution_count": null,
      "outputs": []
    }
  ]
}